{
  "nbformat": 4,
  "nbformat_minor": 0,
  "metadata": {
    "colab": {
      "provenance": [],
      "authorship_tag": "ABX9TyP2MMk4K57EkuZb1jOYag5/",
      "include_colab_link": true
    },
    "kernelspec": {
      "name": "python3",
      "display_name": "Python 3"
    },
    "language_info": {
      "name": "python"
    }
  },
  "cells": [
    {
      "cell_type": "markdown",
      "metadata": {
        "id": "view-in-github",
        "colab_type": "text"
      },
      "source": [
        "<a href=\"https://colab.research.google.com/github/FilipeSquire/Genome-Project---I2A2/blob/main/Genome_Project.ipynb\" target=\"_parent\"><img src=\"https://colab.research.google.com/assets/colab-badge.svg\" alt=\"Open In Colab\"/></a>"
      ]
    },
    {
      "cell_type": "markdown",
      "source": [
        "#Introdução"
      ],
      "metadata": {
        "id": "pYqLMhBt4Jzs"
      }
    },
    {
      "cell_type": "markdown",
      "source": [
        "O desafio proposta pelo professor é identificar familias através de uma base com read counts de diferentes genes/códigos genéticos para cada pessoa na base. \n",
        "\n",
        "**Características da base**\n",
        "> São 65.215 genes na base e 48 individuos. Não há individuos repetidos ou missing values.\n",
        "\n",
        "**Proposta de solução**\n",
        "> O objetivo deste desafio é apresentar um treemap/endograma de cada um desses individuos e as suas respectivas familias. Para realizar tal façanha será necessário identificar os padrões genéticos e compreender a estrutura do gene para realizar clusterizações mais precisas. Além disso, é necessário clusterizar os individuos estabelecendo relação entre os familiares, e se possível, grau de parentesco.\n",
        "\n",
        "**Principais Problemas Encontrados**\n",
        "> Durante o desenvolvimento do projeto tive muita dificuldade na fase de entendimento do negócio, nesse caso, o problema e funcionamento de estruturas biológicas do problema. Dado que me falta muito conhecimento relacionado a isso, acredito que a solução encontrada não seja satisfatória.\n",
        "\n",
        "> Devido a dificuldade para desenvolver o projeto sozinho, devido a falta de conhecimento, trabalhei em conjunto com os colegas de curso, vendo suas soluções e realizando adaptações e/ou melhorias no processo. Vale ressaltar que acredito que a solução não seja satisfatória.\n",
        "\n",
        "> Um aprendizado importante no desenvolvimento da solução é que se torna nítido a necessidade de termos especialistas de diversas áreas da ciência trabalhando em conjunto para uma solução. Acredito que se o tive e/ou eu pudessemos nos dedicar integralmente ao entendimento do problema do ponto de vista biológico, poderiamos desenvolver uma solução mais robusta."
      ],
      "metadata": {
        "id": "Wn9v6WUGPZ-2"
      }
    },
    {
      "cell_type": "markdown",
      "source": [
        "#Importing and Data Cleaning"
      ],
      "metadata": {
        "id": "QaE2gYZ44Nfh"
      }
    },
    {
      "cell_type": "markdown",
      "source": [
        "First off we have to import the data. On my case I'll be importing from a gsheet file on my gdrive using the code below."
      ],
      "metadata": {
        "id": "HrnLQd2y4agU"
      }
    },
    {
      "cell_type": "code",
      "execution_count": null,
      "metadata": {
        "id": "1VyViEH-TXga"
      },
      "outputs": [],
      "source": [
        "import pandas as pd \n",
        "import numpy as np\n",
        "from pydrive.auth import GoogleAuth\n",
        "from pydrive.drive import GoogleDrive\n",
        "from google.colab import auth\n",
        "from oauth2client.client import GoogleCredentials\n",
        "from google.auth import default\n",
        "import gspread\n",
        "%matplotlib inline"
      ]
    },
    {
      "cell_type": "code",
      "source": [
        "#Estabelecendo conexão com drive para buscar as credenciais necessarias.\n",
        "auth.authenticate_user()\n",
        "gauth = GoogleAuth()\n",
        "gauth.credentials = GoogleCredentials.get_application_default()\n",
        "drive = GoogleDrive(gauth)\n",
        "\n",
        "creds, _ = default()\n",
        "gc = gspread.authorize(creds)"
      ],
      "metadata": {
        "id": "8SNJodecUC2u"
      },
      "execution_count": null,
      "outputs": []
    },
    {
      "cell_type": "code",
      "source": [
        "#Realizando importação dos dados.\n",
        "gsheets = gc.open_by_url('https://docs.google.com/spreadsheets/d/1ksBEAtY-OQw_cpjMk0UJgll8aid516gL5Y8DqJCXRB8')\n",
        "sheets = gsheets.worksheet('Sheet 1').get_all_values()\n",
        "\n",
        "gen = pd.DataFrame(sheets[1:],columns=sheets[0])\n",
        "\n",
        "print('The data shape is {}'.format(gen.shape))\n",
        "print('The data types are {}'.format(gen.dtypes.unique()))"
      ],
      "metadata": {
        "id": "oychtHMeUEEH"
      },
      "execution_count": null,
      "outputs": []
    },
    {
      "cell_type": "code",
      "source": [
        "#Since there are too many columns, I'll be looking at the dtypes on this simplified way. For a complete look, try gen.info()\n",
        "\n",
        "print('The old dataframe shape is: {}'.format(gen.shape))\n",
        "\n",
        "gen.index = gen[''] #setting the genes as index\n",
        "gen.drop(columns='', inplace=True) #dropping the old columns\n",
        "gen = gen.astype(int) #chaging dtype from object to int64\n",
        "\n",
        "print('The new dataframe shape is: {}'.format(gen.shape))"
      ],
      "metadata": {
        "colab": {
          "base_uri": "https://localhost:8080/"
        },
        "id": "_Dt6iS54c07v",
        "outputId": "dad90b68-7020-4e8b-b9c1-c42b9544a5de"
      },
      "execution_count": null,
      "outputs": [
        {
          "output_type": "stream",
          "name": "stdout",
          "text": [
            "The old dataframe shape is: (65215, 49)\n",
            "The new dataframe shape is: (65215, 48)\n"
          ]
        }
      ]
    },
    {
      "cell_type": "code",
      "source": [
        "#Checking if there are null values\n",
        "# we could use gen.info() but since there is many columns, it would be better for interpretation if we just do a count\n",
        "gen.isnull().values.sum()\n",
        "#It seems that there are no null values in our databasea"
      ],
      "metadata": {
        "colab": {
          "base_uri": "https://localhost:8080/"
        },
        "id": "9H_DEM7cZNfg",
        "outputId": "376da72c-6657-4eef-eb26-316470ee2f0c"
      },
      "execution_count": null,
      "outputs": [
        {
          "output_type": "execute_result",
          "data": {
            "text/plain": [
              "0"
            ]
          },
          "metadata": {},
          "execution_count": 6
        }
      ]
    },
    {
      "cell_type": "markdown",
      "source": [
        "#Data Treatment"
      ],
      "metadata": {
        "id": "v1kP1B1SaEbB"
      }
    },
    {
      "cell_type": "markdown",
      "source": [
        "Since our database is made of genes (rows) x targets (columns), and all the targets info is actually a gene count for each row and our main objective is to find the families groups, we could delete the genes that has 0 compatibility for all our target variables.\n",
        "\n",
        "Although this approach is not recommended when dealing with biologic data, I lack the knowledge needed to proceed with more complex (or right) approaches when dealing with this problem."
      ],
      "metadata": {
        "id": "Nv0vAO9laK1L"
      }
    },
    {
      "cell_type": "code",
      "source": [
        "gen['count_all'] = gen.sum(axis=1)\n",
        "gen.head()"
      ],
      "metadata": {
        "colab": {
          "base_uri": "https://localhost:8080/",
          "height": 250
        },
        "id": "qtYYnhTda32J",
        "outputId": "9923d177-70d4-4a70-ea66-64af0dcb8440"
      },
      "execution_count": null,
      "outputs": [
        {
          "output_type": "execute_result",
          "data": {
            "text/plain": [
              "                 H223  H224  H225  H226  H227  H228  H229  H230  H231  H232  \\\n",
              "                                                                              \n",
              "ENSG00000000003     0     0     0     1     0     0     0     0     1     0   \n",
              "ENSG00000000005     0     0     0     0     0     0     0     0     0     0   \n",
              "ENSG00000000419  1216  1228  1022   912   491   449   466   727   774   576   \n",
              "ENSG00000000457   189   114   110   289   186   148   169   258   145   131   \n",
              "ENSG00000000460    74    38    55   127    30    17    45   100    33     8   \n",
              "\n",
              "                 ...  H262  H263  H264  H265  H266  H267  H268  H269  H270  \\\n",
              "                 ...                                                         \n",
              "ENSG00000000003  ...     1     0     1     0     2     0     0     1     0   \n",
              "ENSG00000000005  ...     0     0     0     0     0     0     0     0     0   \n",
              "ENSG00000000419  ...   932   360   450   484   926   803   630   537   582   \n",
              "ENSG00000000457  ...   286   137    90   105   275   101    56    87    81   \n",
              "ENSG00000000460  ...   157    34    20    15   139    54    25    21    47   \n",
              "\n",
              "                 count_all  \n",
              "                            \n",
              "ENSG00000000003         12  \n",
              "ENSG00000000005          2  \n",
              "ENSG00000000419      34038  \n",
              "ENSG00000000457       6547  \n",
              "ENSG00000000460       2156  \n",
              "\n",
              "[5 rows x 49 columns]"
            ],
            "text/html": [
              "\n",
              "  <div id=\"df-76dd01ce-c9b0-4ab2-a561-33829b7127be\">\n",
              "    <div class=\"colab-df-container\">\n",
              "      <div>\n",
              "<style scoped>\n",
              "    .dataframe tbody tr th:only-of-type {\n",
              "        vertical-align: middle;\n",
              "    }\n",
              "\n",
              "    .dataframe tbody tr th {\n",
              "        vertical-align: top;\n",
              "    }\n",
              "\n",
              "    .dataframe thead th {\n",
              "        text-align: right;\n",
              "    }\n",
              "</style>\n",
              "<table border=\"1\" class=\"dataframe\">\n",
              "  <thead>\n",
              "    <tr style=\"text-align: right;\">\n",
              "      <th></th>\n",
              "      <th>H223</th>\n",
              "      <th>H224</th>\n",
              "      <th>H225</th>\n",
              "      <th>H226</th>\n",
              "      <th>H227</th>\n",
              "      <th>H228</th>\n",
              "      <th>H229</th>\n",
              "      <th>H230</th>\n",
              "      <th>H231</th>\n",
              "      <th>H232</th>\n",
              "      <th>...</th>\n",
              "      <th>H262</th>\n",
              "      <th>H263</th>\n",
              "      <th>H264</th>\n",
              "      <th>H265</th>\n",
              "      <th>H266</th>\n",
              "      <th>H267</th>\n",
              "      <th>H268</th>\n",
              "      <th>H269</th>\n",
              "      <th>H270</th>\n",
              "      <th>count_all</th>\n",
              "    </tr>\n",
              "    <tr>\n",
              "      <th></th>\n",
              "      <th></th>\n",
              "      <th></th>\n",
              "      <th></th>\n",
              "      <th></th>\n",
              "      <th></th>\n",
              "      <th></th>\n",
              "      <th></th>\n",
              "      <th></th>\n",
              "      <th></th>\n",
              "      <th></th>\n",
              "      <th></th>\n",
              "      <th></th>\n",
              "      <th></th>\n",
              "      <th></th>\n",
              "      <th></th>\n",
              "      <th></th>\n",
              "      <th></th>\n",
              "      <th></th>\n",
              "      <th></th>\n",
              "      <th></th>\n",
              "      <th></th>\n",
              "    </tr>\n",
              "  </thead>\n",
              "  <tbody>\n",
              "    <tr>\n",
              "      <th>ENSG00000000003</th>\n",
              "      <td>0</td>\n",
              "      <td>0</td>\n",
              "      <td>0</td>\n",
              "      <td>1</td>\n",
              "      <td>0</td>\n",
              "      <td>0</td>\n",
              "      <td>0</td>\n",
              "      <td>0</td>\n",
              "      <td>1</td>\n",
              "      <td>0</td>\n",
              "      <td>...</td>\n",
              "      <td>1</td>\n",
              "      <td>0</td>\n",
              "      <td>1</td>\n",
              "      <td>0</td>\n",
              "      <td>2</td>\n",
              "      <td>0</td>\n",
              "      <td>0</td>\n",
              "      <td>1</td>\n",
              "      <td>0</td>\n",
              "      <td>12</td>\n",
              "    </tr>\n",
              "    <tr>\n",
              "      <th>ENSG00000000005</th>\n",
              "      <td>0</td>\n",
              "      <td>0</td>\n",
              "      <td>0</td>\n",
              "      <td>0</td>\n",
              "      <td>0</td>\n",
              "      <td>0</td>\n",
              "      <td>0</td>\n",
              "      <td>0</td>\n",
              "      <td>0</td>\n",
              "      <td>0</td>\n",
              "      <td>...</td>\n",
              "      <td>0</td>\n",
              "      <td>0</td>\n",
              "      <td>0</td>\n",
              "      <td>0</td>\n",
              "      <td>0</td>\n",
              "      <td>0</td>\n",
              "      <td>0</td>\n",
              "      <td>0</td>\n",
              "      <td>0</td>\n",
              "      <td>2</td>\n",
              "    </tr>\n",
              "    <tr>\n",
              "      <th>ENSG00000000419</th>\n",
              "      <td>1216</td>\n",
              "      <td>1228</td>\n",
              "      <td>1022</td>\n",
              "      <td>912</td>\n",
              "      <td>491</td>\n",
              "      <td>449</td>\n",
              "      <td>466</td>\n",
              "      <td>727</td>\n",
              "      <td>774</td>\n",
              "      <td>576</td>\n",
              "      <td>...</td>\n",
              "      <td>932</td>\n",
              "      <td>360</td>\n",
              "      <td>450</td>\n",
              "      <td>484</td>\n",
              "      <td>926</td>\n",
              "      <td>803</td>\n",
              "      <td>630</td>\n",
              "      <td>537</td>\n",
              "      <td>582</td>\n",
              "      <td>34038</td>\n",
              "    </tr>\n",
              "    <tr>\n",
              "      <th>ENSG00000000457</th>\n",
              "      <td>189</td>\n",
              "      <td>114</td>\n",
              "      <td>110</td>\n",
              "      <td>289</td>\n",
              "      <td>186</td>\n",
              "      <td>148</td>\n",
              "      <td>169</td>\n",
              "      <td>258</td>\n",
              "      <td>145</td>\n",
              "      <td>131</td>\n",
              "      <td>...</td>\n",
              "      <td>286</td>\n",
              "      <td>137</td>\n",
              "      <td>90</td>\n",
              "      <td>105</td>\n",
              "      <td>275</td>\n",
              "      <td>101</td>\n",
              "      <td>56</td>\n",
              "      <td>87</td>\n",
              "      <td>81</td>\n",
              "      <td>6547</td>\n",
              "    </tr>\n",
              "    <tr>\n",
              "      <th>ENSG00000000460</th>\n",
              "      <td>74</td>\n",
              "      <td>38</td>\n",
              "      <td>55</td>\n",
              "      <td>127</td>\n",
              "      <td>30</td>\n",
              "      <td>17</td>\n",
              "      <td>45</td>\n",
              "      <td>100</td>\n",
              "      <td>33</td>\n",
              "      <td>8</td>\n",
              "      <td>...</td>\n",
              "      <td>157</td>\n",
              "      <td>34</td>\n",
              "      <td>20</td>\n",
              "      <td>15</td>\n",
              "      <td>139</td>\n",
              "      <td>54</td>\n",
              "      <td>25</td>\n",
              "      <td>21</td>\n",
              "      <td>47</td>\n",
              "      <td>2156</td>\n",
              "    </tr>\n",
              "  </tbody>\n",
              "</table>\n",
              "<p>5 rows × 49 columns</p>\n",
              "</div>\n",
              "      <button class=\"colab-df-convert\" onclick=\"convertToInteractive('df-76dd01ce-c9b0-4ab2-a561-33829b7127be')\"\n",
              "              title=\"Convert this dataframe to an interactive table.\"\n",
              "              style=\"display:none;\">\n",
              "        \n",
              "  <svg xmlns=\"http://www.w3.org/2000/svg\" height=\"24px\"viewBox=\"0 0 24 24\"\n",
              "       width=\"24px\">\n",
              "    <path d=\"M0 0h24v24H0V0z\" fill=\"none\"/>\n",
              "    <path d=\"M18.56 5.44l.94 2.06.94-2.06 2.06-.94-2.06-.94-.94-2.06-.94 2.06-2.06.94zm-11 1L8.5 8.5l.94-2.06 2.06-.94-2.06-.94L8.5 2.5l-.94 2.06-2.06.94zm10 10l.94 2.06.94-2.06 2.06-.94-2.06-.94-.94-2.06-.94 2.06-2.06.94z\"/><path d=\"M17.41 7.96l-1.37-1.37c-.4-.4-.92-.59-1.43-.59-.52 0-1.04.2-1.43.59L10.3 9.45l-7.72 7.72c-.78.78-.78 2.05 0 2.83L4 21.41c.39.39.9.59 1.41.59.51 0 1.02-.2 1.41-.59l7.78-7.78 2.81-2.81c.8-.78.8-2.07 0-2.86zM5.41 20L4 18.59l7.72-7.72 1.47 1.35L5.41 20z\"/>\n",
              "  </svg>\n",
              "      </button>\n",
              "      \n",
              "  <style>\n",
              "    .colab-df-container {\n",
              "      display:flex;\n",
              "      flex-wrap:wrap;\n",
              "      gap: 12px;\n",
              "    }\n",
              "\n",
              "    .colab-df-convert {\n",
              "      background-color: #E8F0FE;\n",
              "      border: none;\n",
              "      border-radius: 50%;\n",
              "      cursor: pointer;\n",
              "      display: none;\n",
              "      fill: #1967D2;\n",
              "      height: 32px;\n",
              "      padding: 0 0 0 0;\n",
              "      width: 32px;\n",
              "    }\n",
              "\n",
              "    .colab-df-convert:hover {\n",
              "      background-color: #E2EBFA;\n",
              "      box-shadow: 0px 1px 2px rgba(60, 64, 67, 0.3), 0px 1px 3px 1px rgba(60, 64, 67, 0.15);\n",
              "      fill: #174EA6;\n",
              "    }\n",
              "\n",
              "    [theme=dark] .colab-df-convert {\n",
              "      background-color: #3B4455;\n",
              "      fill: #D2E3FC;\n",
              "    }\n",
              "\n",
              "    [theme=dark] .colab-df-convert:hover {\n",
              "      background-color: #434B5C;\n",
              "      box-shadow: 0px 1px 3px 1px rgba(0, 0, 0, 0.15);\n",
              "      filter: drop-shadow(0px 1px 2px rgba(0, 0, 0, 0.3));\n",
              "      fill: #FFFFFF;\n",
              "    }\n",
              "  </style>\n",
              "\n",
              "      <script>\n",
              "        const buttonEl =\n",
              "          document.querySelector('#df-76dd01ce-c9b0-4ab2-a561-33829b7127be button.colab-df-convert');\n",
              "        buttonEl.style.display =\n",
              "          google.colab.kernel.accessAllowed ? 'block' : 'none';\n",
              "\n",
              "        async function convertToInteractive(key) {\n",
              "          const element = document.querySelector('#df-76dd01ce-c9b0-4ab2-a561-33829b7127be');\n",
              "          const dataTable =\n",
              "            await google.colab.kernel.invokeFunction('convertToInteractive',\n",
              "                                                     [key], {});\n",
              "          if (!dataTable) return;\n",
              "\n",
              "          const docLinkHtml = 'Like what you see? Visit the ' +\n",
              "            '<a target=\"_blank\" href=https://colab.research.google.com/notebooks/data_table.ipynb>data table notebook</a>'\n",
              "            + ' to learn more about interactive tables.';\n",
              "          element.innerHTML = '';\n",
              "          dataTable['output_type'] = 'display_data';\n",
              "          await google.colab.output.renderOutput(dataTable, element);\n",
              "          const docLink = document.createElement('div');\n",
              "          docLink.innerHTML = docLinkHtml;\n",
              "          element.appendChild(docLink);\n",
              "        }\n",
              "      </script>\n",
              "    </div>\n",
              "  </div>\n",
              "  "
            ]
          },
          "metadata": {},
          "execution_count": 7
        }
      ]
    },
    {
      "cell_type": "markdown",
      "source": [
        "Now let's proceed and remove the count_all = 0 from our dataset"
      ],
      "metadata": {
        "id": "3buhlifPfsOb"
      }
    },
    {
      "cell_type": "code",
      "source": [
        "dfcount_zero = gen[gen.count_all == 0].copy()\n",
        "newgen = gen[gen.count_all != 0].copy()\n",
        "\n",
        "newgen.drop(columns='count_all', inplace=True)\n",
        "\n",
        "print('Tamanho original da base é: {}'.format(gen.shape))\n",
        "print('Novo tamanho da base: {}'.format(newgen.shape))"
      ],
      "metadata": {
        "colab": {
          "base_uri": "https://localhost:8080/"
        },
        "id": "d4enSNmgfqJV",
        "outputId": "cd3b0d96-1830-469f-bde5-73577efb61ee"
      },
      "execution_count": null,
      "outputs": [
        {
          "output_type": "stream",
          "name": "stdout",
          "text": [
            "Tamanho original da base é: (65215, 49)\n",
            "Novo tamanho da base: (44678, 48)\n"
          ]
        }
      ]
    },
    {
      "cell_type": "markdown",
      "source": [
        "It looks like we have 20.537 genes with no count for any of our targets (people).\n",
        "\n",
        "# Distribution Test\n",
        "\n",
        "Now we must have a look to see if our data is normally distributed, usually I would do this procedure through a graphic analysis but due to our problem with the dimensionality complexity problem, it wouldnt be possible or very useful to do that. Instead I will proceed with a statistical test called **D'Agostino's K-squared test.**.\n",
        "\n",
        "D'Agostino's K-squared basically combines skew and kurtosis to produce a normality test. It gives the s² + k², where s = z-score returned by skew test and k = z-score returned by kurtosis test and p-value. It works based on an alpha to determine wheter the variables are not normally distributed.\n",
        "\n",
        "\n",
        "For this test I will use alpha < 0.5 to reject the hypothesis.\n",
        "\n",
        "**H0 = comes from a normal distribution**\n",
        "\n",
        "**HA= doesnt comes from a normal distribution**"
      ],
      "metadata": {
        "id": "KS8nK4dBnZqs"
      }
    },
    {
      "cell_type": "code",
      "source": [
        "from scipy import stats\n",
        "\n",
        "alpha = 0.5\n",
        "\n",
        "for x in newgen.columns:\n",
        "  print([x])\n",
        "  a,b = stats.normaltest(newgen[[x]])\n",
        "  print(a,b)\n",
        "\n",
        "  if b < alpha:\n",
        "    print(f'The null hypothesis can be rejected for {[x]}')\n",
        "  else:\n",
        "    print(f'The null hypothesis cant be rejected for {[x]}')"
      ],
      "metadata": {
        "colab": {
          "base_uri": "https://localhost:8080/"
        },
        "id": "icCfpCSNt9Kp",
        "outputId": "9d439678-d52b-4dc7-ec54-a1610c0db3ac"
      },
      "execution_count": null,
      "outputs": [
        {
          "output_type": "stream",
          "name": "stdout",
          "text": [
            "['H223']\n",
            "[139921.63507983] [0.]\n",
            "The null hypothesis can be rejected for ['H223']\n",
            "['H224']\n",
            "[126889.7034742] [0.]\n",
            "The null hypothesis can be rejected for ['H224']\n",
            "['H225']\n",
            "[134234.24495543] [0.]\n",
            "The null hypothesis can be rejected for ['H225']\n",
            "['H226']\n",
            "[137101.14340952] [0.]\n",
            "The null hypothesis can be rejected for ['H226']\n",
            "['H227']\n",
            "[145620.37445749] [0.]\n",
            "The null hypothesis can be rejected for ['H227']\n",
            "['H228']\n",
            "[155794.09713177] [0.]\n",
            "The null hypothesis can be rejected for ['H228']\n",
            "['H229']\n",
            "[149865.05959014] [0.]\n",
            "The null hypothesis can be rejected for ['H229']\n",
            "['H230']\n",
            "[127420.2446243] [0.]\n",
            "The null hypothesis can be rejected for ['H230']\n",
            "['H231']\n",
            "[143300.85110764] [0.]\n",
            "The null hypothesis can be rejected for ['H231']\n",
            "['H232']\n",
            "[167790.72959036] [0.]\n",
            "The null hypothesis can be rejected for ['H232']\n",
            "['H233']\n",
            "[143093.54129416] [0.]\n",
            "The null hypothesis can be rejected for ['H233']\n",
            "['H234']\n",
            "[130704.98428992] [0.]\n",
            "The null hypothesis can be rejected for ['H234']\n",
            "['H235']\n",
            "[150393.03389231] [0.]\n",
            "The null hypothesis can be rejected for ['H235']\n",
            "['H236']\n",
            "[123959.37217416] [0.]\n",
            "The null hypothesis can be rejected for ['H236']\n",
            "['H237']\n",
            "[137251.16348869] [0.]\n",
            "The null hypothesis can be rejected for ['H237']\n",
            "['H238']\n",
            "[135294.99895395] [0.]\n",
            "The null hypothesis can be rejected for ['H238']\n",
            "['H239']\n",
            "[161279.12914327] [0.]\n",
            "The null hypothesis can be rejected for ['H239']\n",
            "['H240']\n",
            "[147528.23548054] [0.]\n",
            "The null hypothesis can be rejected for ['H240']\n",
            "['H241']\n",
            "[144131.67603108] [0.]\n",
            "The null hypothesis can be rejected for ['H241']\n",
            "['H242']\n",
            "[123547.30407671] [0.]\n",
            "The null hypothesis can be rejected for ['H242']\n",
            "['H243']\n",
            "[162504.68604248] [0.]\n",
            "The null hypothesis can be rejected for ['H243']\n",
            "['H244']\n",
            "[148552.01222837] [0.]\n",
            "The null hypothesis can be rejected for ['H244']\n",
            "['H245']\n",
            "[142891.48292753] [0.]\n",
            "The null hypothesis can be rejected for ['H245']\n",
            "['H246']\n",
            "[125760.62764844] [0.]\n",
            "The null hypothesis can be rejected for ['H246']\n",
            "['H247']\n",
            "[155903.73581694] [0.]\n",
            "The null hypothesis can be rejected for ['H247']\n",
            "['H248']\n",
            "[135126.09118619] [0.]\n",
            "The null hypothesis can be rejected for ['H248']\n",
            "['H249']\n",
            "[144041.83974778] [0.]\n",
            "The null hypothesis can be rejected for ['H249']\n",
            "['H250']\n",
            "[136883.83320381] [0.]\n",
            "The null hypothesis can be rejected for ['H250']\n",
            "['H251']\n",
            "[144099.3449652] [0.]\n",
            "The null hypothesis can be rejected for ['H251']\n",
            "['H252']\n",
            "[155284.26109666] [0.]\n",
            "The null hypothesis can be rejected for ['H252']\n",
            "['H253']\n",
            "[149050.49693041] [0.]\n",
            "The null hypothesis can be rejected for ['H253']\n",
            "['H254']\n",
            "[151202.52647939] [0.]\n",
            "The null hypothesis can be rejected for ['H254']\n",
            "['H255']\n",
            "[141796.30627623] [0.]\n",
            "The null hypothesis can be rejected for ['H255']\n",
            "['H256']\n",
            "[166384.24268555] [0.]\n",
            "The null hypothesis can be rejected for ['H256']\n",
            "['H257']\n",
            "[142023.51501872] [0.]\n",
            "The null hypothesis can be rejected for ['H257']\n",
            "['H258']\n",
            "[124837.6049237] [0.]\n",
            "The null hypothesis can be rejected for ['H258']\n",
            "['H259']\n",
            "[146549.78445165] [0.]\n",
            "The null hypothesis can be rejected for ['H259']\n",
            "['H260']\n",
            "[125440.39985758] [0.]\n",
            "The null hypothesis can be rejected for ['H260']\n",
            "['H261']\n",
            "[131410.57475028] [0.]\n",
            "The null hypothesis can be rejected for ['H261']\n",
            "['H262']\n",
            "[141737.57859443] [0.]\n",
            "The null hypothesis can be rejected for ['H262']\n",
            "['H263']\n",
            "[141983.35328134] [0.]\n",
            "The null hypothesis can be rejected for ['H263']\n",
            "['H264']\n",
            "[140633.61095455] [0.]\n",
            "The null hypothesis can be rejected for ['H264']\n",
            "['H265']\n",
            "[138145.86029605] [0.]\n",
            "The null hypothesis can be rejected for ['H265']\n",
            "['H266']\n",
            "[127526.98328871] [0.]\n",
            "The null hypothesis can be rejected for ['H266']\n",
            "['H267']\n",
            "[160553.11713665] [0.]\n",
            "The null hypothesis can be rejected for ['H267']\n",
            "['H268']\n",
            "[178812.85170309] [0.]\n",
            "The null hypothesis can be rejected for ['H268']\n",
            "['H269']\n",
            "[167707.53793299] [0.]\n",
            "The null hypothesis can be rejected for ['H269']\n",
            "['H270']\n",
            "[124917.36692953] [0.]\n",
            "The null hypothesis can be rejected for ['H270']\n"
          ]
        }
      ]
    },
    {
      "cell_type": "markdown",
      "source": [
        "It looks like all our target variables are not normally distributed and it means that we will have to normalize the dataset in order to proceed for the modelling phase. \n",
        "\n",
        "But why do we have to normalize our data? If we take a look at it we'll see that the range values are too wide, so we could have rows with a count of 4 and another with 27K. If we normalize our data, we will have all the data with an equal range of values."
      ],
      "metadata": {
        "id": "skopf_8RvUjE"
      }
    },
    {
      "cell_type": "markdown",
      "source": [
        "#Normalization"
      ],
      "metadata": {
        "id": "gNGjHsTRvdeC"
      }
    },
    {
      "cell_type": "markdown",
      "source": [
        "Now let's transform the data. Firstly I'll be transposing the dat since the features are on the rows and the variables on the columns."
      ],
      "metadata": {
        "id": "a5XJSqV44k-m"
      }
    },
    {
      "cell_type": "markdown",
      "source": [
        "For this Normalization step I followed the instructions and findings made by Seabra, our fellow colleague. I managed to discover the scanpy library, although I failed to comprehend its implementation and therefore I chose to follow Seabra's choice of normalization.\n",
        "\n",
        "Seabra decided to use R to have access to the Seurat library which will do the job of normalization for us."
      ],
      "metadata": {
        "id": "ur2S36jYzFMJ"
      }
    },
    {
      "cell_type": "markdown",
      "source": [
        "##R Coding"
      ],
      "metadata": {
        "id": "J9aVDYb_-SrW"
      }
    },
    {
      "cell_type": "markdown",
      "source": [
        "Instead of creating a new code file I will be using using R and Python together. \n",
        "\n",
        "If you wanna know more about this implementation, check out the following link:\n",
        "\n",
        "> [How to use R and Python with Google Colaboratory](https://medium.com/@ezzaouia/how-to-use-r-and-python-with-google-colaboratory-notebook-ebc4774d48a)"
      ],
      "metadata": {
        "id": "7ix75any-VEE"
      }
    },
    {
      "cell_type": "code",
      "source": [
        "#Setting up the R environment\n",
        "%load_ext rpy2.ipython"
      ],
      "metadata": {
        "id": "WGGT2jxs1Dd0"
      },
      "execution_count": null,
      "outputs": []
    },
    {
      "cell_type": "code",
      "source": [
        "#Transforming dataframe python to R\n",
        "%R -i newgen"
      ],
      "metadata": {
        "id": "CgjEwjwVzzcS"
      },
      "execution_count": null,
      "outputs": []
    },
    {
      "cell_type": "markdown",
      "source": [
        "**WARNING! DONT RUN THE CELL BELOW WITHOUT READING THE COMMENT FIRST ❌**"
      ],
      "metadata": {
        "id": "kSWuMLyS-tE3"
      }
    },
    {
      "cell_type": "code",
      "source": [
        "%%R\n",
        "#Downloading Seurat Library. WARNING! The download and installing of this library and all its dependencies took me 20 minutes. Beware before running this cell.\n",
        "#install.packages('Seurat')"
      ],
      "metadata": {
        "colab": {
          "base_uri": "https://localhost:8080/"
        },
        "id": "oCBMaD_d2x7N",
        "outputId": "7c85dfcb-1189-467d-83f4-db01de4a0a01"
      },
      "execution_count": null,
      "outputs": [
        {
          "output_type": "stream",
          "name": "stderr",
          "text": [
            "R[write to console]: Attaching SeuratObject\n",
            "\n"
          ]
        }
      ]
    },
    {
      "cell_type": "code",
      "source": [
        "%%R\n",
        "\n",
        "library(Seurat)\n",
        "\n",
        "rgen <- data.frame(NormalizeData(t(newgen))) #Transposing the data and then normalizing it\n",
        "\n",
        "rgen2 <- rgen[, colSums(rgen != 0)> 0]\n"
      ],
      "metadata": {
        "id": "cFtNJwob4ExI",
        "colab": {
          "base_uri": "https://localhost:8080/"
        },
        "outputId": "af045df8-afad-493f-becb-8c5242632727"
      },
      "execution_count": null,
      "outputs": [
        {
          "output_type": "stream",
          "name": "stderr",
          "text": [
            "R[write to console]: Performing log-normalization\n",
            "\n",
            "R[write to console]: 0%   10   20   30   40   50   60   70   80   90   100%\n",
            "\n",
            "R[write to console]: [----|----|----|----|----|----|----|----|----|----|\n",
            "\n",
            "R[write to console]: *\n",
            "R[write to console]: *\n",
            "R[write to console]: *\n",
            "R[write to console]: *\n",
            "R[write to console]: *\n",
            "R[write to console]: *\n",
            "R[write to console]: *\n",
            "R[write to console]: *\n",
            "R[write to console]: *\n",
            "R[write to console]: *\n",
            "R[write to console]: *\n",
            "R[write to console]: *\n",
            "R[write to console]: *\n",
            "R[write to console]: *\n",
            "R[write to console]: *\n",
            "R[write to console]: *\n",
            "R[write to console]: *\n",
            "R[write to console]: *\n",
            "R[write to console]: *\n",
            "R[write to console]: *\n",
            "R[write to console]: *\n",
            "R[write to console]: *\n",
            "R[write to console]: *\n",
            "R[write to console]: *\n",
            "R[write to console]: *\n",
            "R[write to console]: *\n",
            "R[write to console]: *\n",
            "R[write to console]: *\n",
            "R[write to console]: *\n",
            "R[write to console]: *\n",
            "R[write to console]: *\n",
            "R[write to console]: *\n",
            "R[write to console]: *\n",
            "R[write to console]: *\n",
            "R[write to console]: *\n",
            "R[write to console]: *\n",
            "R[write to console]: *\n",
            "R[write to console]: *\n",
            "R[write to console]: *\n",
            "R[write to console]: *\n",
            "R[write to console]: *\n",
            "R[write to console]: *\n",
            "R[write to console]: *\n",
            "R[write to console]: *\n",
            "R[write to console]: *\n",
            "R[write to console]: *\n",
            "R[write to console]: *\n",
            "R[write to console]: *\n",
            "R[write to console]: *\n",
            "R[write to console]: *\n",
            "R[write to console]: |\n",
            "\n"
          ]
        }
      ]
    },
    {
      "cell_type": "code",
      "source": [
        "#Transforming the R dataframe into Python again\n",
        "%R -o rgen2"
      ],
      "metadata": {
        "id": "6kW_sDGE92VN"
      },
      "execution_count": null,
      "outputs": []
    },
    {
      "cell_type": "markdown",
      "source": [
        "DONE!"
      ],
      "metadata": {
        "id": "EoGVY5K6-PNp"
      }
    },
    {
      "cell_type": "code",
      "source": [
        "norm_gen = rgen2.copy()\n",
        "norm_gen.shape"
      ],
      "metadata": {
        "colab": {
          "base_uri": "https://localhost:8080/"
        },
        "id": "N6E13pna99n7",
        "outputId": "122a6ba6-0e0d-4795-c432-4a8359295e83"
      },
      "execution_count": null,
      "outputs": [
        {
          "output_type": "execute_result",
          "data": {
            "text/plain": [
              "(48, 44678)"
            ]
          },
          "metadata": {},
          "execution_count": 17
        }
      ]
    },
    {
      "cell_type": "markdown",
      "source": [
        "#Modelling"
      ],
      "metadata": {
        "id": "3IyvVtbI4VIv"
      }
    },
    {
      "cell_type": "code",
      "source": [
        "#Deleting the non usable dataframes to free space in our RAM and Disk for the tasks ahead.\n",
        "\n",
        "del newgen\n",
        "del rgen2"
      ],
      "metadata": {
        "id": "G1e-ECEX_hKy"
      },
      "execution_count": null,
      "outputs": []
    },
    {
      "cell_type": "markdown",
      "source": [
        "## K-Means"
      ],
      "metadata": {
        "id": "6NNBR-R-BabO"
      }
    },
    {
      "cell_type": "code",
      "source": [
        "from sklearn.cluster import KMeans\n",
        "import matplotlib.pyplot as plt\n",
        "import seaborn as sn"
      ],
      "metadata": {
        "id": "T8TGNoaFCLOI"
      },
      "execution_count": null,
      "outputs": []
    },
    {
      "cell_type": "markdown",
      "source": [
        "Firstly let's run the Elbow Method in order to understand in how many groups we will be breaking our model"
      ],
      "metadata": {
        "id": "yQtIlUvFD1Qp"
      }
    },
    {
      "cell_type": "code",
      "source": [
        "sse = {}\n",
        "for k in range(1,11):\n",
        "    kmeans = KMeans(n_clusters=k,random_state=42)\n",
        "    kmeans.fit(norm_gen)\n",
        "    sse[k] = kmeans.inertia_ #SSE to closest cluster centroid\n",
        "\n",
        "    plt.title('The Elbow Method')\n",
        "    plt.xlabel('k')\n",
        "    plt.ylabel('SSE')\n",
        "    sn.pointplot(x=list(sse.keys()), y=list(sse.values()))\n",
        "    plt.show()"
      ],
      "metadata": {
        "colab": {
          "base_uri": "https://localhost:8080/",
          "height": 1000
        },
        "id": "VPZybRfaBc7Z",
        "outputId": "c1b6c665-6f26-494b-9f13-3fb8110ee0a9"
      },
      "execution_count": null,
      "outputs": [
        {
          "output_type": "display_data",
          "data": {
            "text/plain": [
              "<Figure size 432x288 with 1 Axes>"
            ],
            "image/png": "[encoded data removed]"
          },
          "metadata": {
            "needs_background": "light"
          }
        },
        {
          "output_type": "display_data",
          "data": {
            "text/plain": [
              "<Figure size 432x288 with 1 Axes>"
            ],
            "image/png": "[encoded data removed]"
          },
          "metadata": {
            "needs_background": "light"
          }
        },
        {
          "output_type": "display_data",
          "data": {
            "text/plain": [
              "<Figure size 432x288 with 1 Axes>"
            ],
            "image/png": "[encoded data removed]"
          },
          "metadata": {
            "needs_background": "light"
          }
        },
        {
          "output_type": "display_data",
          "data": {
            "text/plain": [
              "<Figure size 432x288 with 1 Axes>"
            ],
            "image/png": "[encoded data removed]"
          },
          "metadata": {
            "needs_background": "light"
          }
        },
        {
          "output_type": "display_data",
          "data": {
            "text/plain": [
              "<Figure size 432x288 with 1 Axes>"
            ],
            "image/png": "[encoded data removed]"
          },
          "metadata": {
            "needs_background": "light"
          }
        },
        {
          "output_type": "display_data",
          "data": {
            "text/plain": [
              "<Figure size 432x288 with 1 Axes>"
            ],
            "image/png": "[encoded data removed]"
          },
          "metadata": {
            "needs_background": "light"
          }
        },
        {
          "output_type": "display_data",
          "data": {
            "text/plain": [
              "<Figure size 432x288 with 1 Axes>"
            ],
            "image/png": "[encoded data removed]"
          },
          "metadata": {
            "needs_background": "light"
          }
        },
        {
          "output_type": "display_data",
          "data": {
            "text/plain": [
              "<Figure size 432x288 with 1 Axes>"
            ],
            "image/png": "[encoded data removed]"
          },
          "metadata": {
            "needs_background": "light"
          }
        },
        {
          "output_type": "display_data",
          "data": {
            "text/plain": [
              "<Figure size 432x288 with 1 Axes>"
            ],
            "image/png": "[encoded data removed]"
          },
          "metadata": {
            "needs_background": "light"
          }
        },
        {
          "output_type": "display_data",
          "data": {
            "text/plain": [
              "<Figure size 432x288 with 1 Axes>"
            ],
            "image/png": "[encoded data removed]"
          },
          "metadata": {
            "needs_background": "light"
          }
        }
      ]
    },
    {
      "cell_type": "code",
      "source": [
        "from sklearn.metrics import silhouette_score\n",
        "\n",
        "kmodel = KMeans(n_clusters=3, init='random')\n",
        "kmodel.fit(norm_gen)\n",
        "\n",
        "labels = kmodel.labels_\n",
        "\n",
        "print('Sillhoute Score : {}'.format(silhouette_score(norm_gen, labels, metric='euclidean')))"
      ],
      "metadata": {
        "colab": {
          "base_uri": "https://localhost:8080/"
        },
        "id": "BAyokWX_EFwp",
        "outputId": "ba0924ce-0840-429a-dcdc-86eeaf152621"
      },
      "execution_count": null,
      "outputs": [
        {
          "output_type": "stream",
          "name": "stdout",
          "text": [
            "Sillhoute Score : 0.06299114168671281\n"
          ]
        }
      ]
    },
    {
      "cell_type": "code",
      "source": [
        "kmeans_cluster = pd.DataFrame(norm_gen, columns = norm_gen.columns, index=norm_gen.index)\n",
        "\n",
        "kmeans_cluster['family'] = kmodel.labels_\n",
        "\n",
        "kmeans_cluster.head()"
      ],
      "metadata": {
        "colab": {
          "base_uri": "https://localhost:8080/",
          "height": 300
        },
        "id": "U3-qTaw-FqF1",
        "outputId": "49360647-85ef-4c19-a74c-0111ef7238cf"
      },
      "execution_count": null,
      "outputs": [
        {
          "output_type": "execute_result",
          "data": {
            "text/plain": [
              "      ENSG00000000003  ENSG00000000005  ENSG00000000419  ENSG00000000457  \\\n",
              "H223         0.000000              0.0         5.881225         5.668783   \n",
              "H224         0.000000              0.0         5.891018         5.165503   \n",
              "H225         0.000000              0.0         5.707949         5.129993   \n",
              "H226         6.726633              0.0         5.594473         6.092268   \n",
              "H227         0.000000              0.0         4.978460         5.652839   \n",
              "\n",
              "      ENSG00000000460  ENSG00000000938  ENSG00000000971  ENSG00000001036  \\\n",
              "H223         5.841305         5.991986         4.472554         5.794610   \n",
              "H224         5.177574         5.681517         4.874205         5.725648   \n",
              "H225         5.545576         5.860092         0.000000         6.019495   \n",
              "H226         6.380214         6.262938         5.563525         6.163107   \n",
              "H227         4.942689         5.012682         6.408629         4.083943   \n",
              "\n",
              "      ENSG00000001084  ENSG00000001167  ...  ENSG00000281892  ENSG00000281896  \\\n",
              "H223         6.005167         5.874698  ...         8.112028         5.757685   \n",
              "H224         7.098597         5.961789  ...         0.000000         5.703794   \n",
              "H225         5.895160         5.705528  ...         0.000000         5.213436   \n",
              "H226         3.505994         5.464666  ...         0.000000         5.948191   \n",
              "H227         3.544529         5.100183  ...         0.000000         4.764556   \n",
              "\n",
              "      ENSG00000281899  ENSG00000281903  ENSG00000281904  ENSG00000281909  \\\n",
              "H223          0.00000         6.152201              0.0              0.0   \n",
              "H224          0.00000         0.000000              0.0              0.0   \n",
              "H225          0.00000         5.566116              0.0              0.0   \n",
              "H226          0.00000         6.844283              0.0              0.0   \n",
              "H227          9.21044         6.095167              0.0              0.0   \n",
              "\n",
              "      ENSG00000281912  ENSG00000281918  ENSG00000281920  family  \n",
              "H223         5.323408              0.0              0.0       1  \n",
              "H224         5.323408              0.0              0.0       1  \n",
              "H225         0.000000              0.0              0.0       1  \n",
              "H226         6.014114              0.0              0.0       1  \n",
              "H227         0.000000              0.0              0.0       0  \n",
              "\n",
              "[5 rows x 44679 columns]"
            ],
            "text/html": [
              "\n",
              "  <div id=\"df-4ff64f32-e215-48bb-84a4-0918e84490dd\">\n",
              "    <div class=\"colab-df-container\">\n",
              "      <div>\n",
              "<style scoped>\n",
              "    .dataframe tbody tr th:only-of-type {\n",
              "        vertical-align: middle;\n",
              "    }\n",
              "\n",
              "    .dataframe tbody tr th {\n",
              "        vertical-align: top;\n",
              "    }\n",
              "\n",
              "    .dataframe thead th {\n",
              "        text-align: right;\n",
              "    }\n",
              "</style>\n",
              "<table border=\"1\" class=\"dataframe\">\n",
              "  <thead>\n",
              "    <tr style=\"text-align: right;\">\n",
              "      <th></th>\n",
              "      <th>ENSG00000000003</th>\n",
              "      <th>ENSG00000000005</th>\n",
              "      <th>ENSG00000000419</th>\n",
              "      <th>ENSG00000000457</th>\n",
              "      <th>ENSG00000000460</th>\n",
              "      <th>ENSG00000000938</th>\n",
              "      <th>ENSG00000000971</th>\n",
              "      <th>ENSG00000001036</th>\n",
              "      <th>ENSG00000001084</th>\n",
              "      <th>ENSG00000001167</th>\n",
              "      <th>...</th>\n",
              "      <th>ENSG00000281892</th>\n",
              "      <th>ENSG00000281896</th>\n",
              "      <th>ENSG00000281899</th>\n",
              "      <th>ENSG00000281903</th>\n",
              "      <th>ENSG00000281904</th>\n",
              "      <th>ENSG00000281909</th>\n",
              "      <th>ENSG00000281912</th>\n",
              "      <th>ENSG00000281918</th>\n",
              "      <th>ENSG00000281920</th>\n",
              "      <th>family</th>\n",
              "    </tr>\n",
              "  </thead>\n",
              "  <tbody>\n",
              "    <tr>\n",
              "      <th>H223</th>\n",
              "      <td>0.000000</td>\n",
              "      <td>0.0</td>\n",
              "      <td>5.881225</td>\n",
              "      <td>5.668783</td>\n",
              "      <td>5.841305</td>\n",
              "      <td>5.991986</td>\n",
              "      <td>4.472554</td>\n",
              "      <td>5.794610</td>\n",
              "      <td>6.005167</td>\n",
              "      <td>5.874698</td>\n",
              "      <td>...</td>\n",
              "      <td>8.112028</td>\n",
              "      <td>5.757685</td>\n",
              "      <td>0.00000</td>\n",
              "      <td>6.152201</td>\n",
              "      <td>0.0</td>\n",
              "      <td>0.0</td>\n",
              "      <td>5.323408</td>\n",
              "      <td>0.0</td>\n",
              "      <td>0.0</td>\n",
              "      <td>1</td>\n",
              "    </tr>\n",
              "    <tr>\n",
              "      <th>H224</th>\n",
              "      <td>0.000000</td>\n",
              "      <td>0.0</td>\n",
              "      <td>5.891018</td>\n",
              "      <td>5.165503</td>\n",
              "      <td>5.177574</td>\n",
              "      <td>5.681517</td>\n",
              "      <td>4.874205</td>\n",
              "      <td>5.725648</td>\n",
              "      <td>7.098597</td>\n",
              "      <td>5.961789</td>\n",
              "      <td>...</td>\n",
              "      <td>0.000000</td>\n",
              "      <td>5.703794</td>\n",
              "      <td>0.00000</td>\n",
              "      <td>0.000000</td>\n",
              "      <td>0.0</td>\n",
              "      <td>0.0</td>\n",
              "      <td>5.323408</td>\n",
              "      <td>0.0</td>\n",
              "      <td>0.0</td>\n",
              "      <td>1</td>\n",
              "    </tr>\n",
              "    <tr>\n",
              "      <th>H225</th>\n",
              "      <td>0.000000</td>\n",
              "      <td>0.0</td>\n",
              "      <td>5.707949</td>\n",
              "      <td>5.129993</td>\n",
              "      <td>5.545576</td>\n",
              "      <td>5.860092</td>\n",
              "      <td>0.000000</td>\n",
              "      <td>6.019495</td>\n",
              "      <td>5.895160</td>\n",
              "      <td>5.705528</td>\n",
              "      <td>...</td>\n",
              "      <td>0.000000</td>\n",
              "      <td>5.213436</td>\n",
              "      <td>0.00000</td>\n",
              "      <td>5.566116</td>\n",
              "      <td>0.0</td>\n",
              "      <td>0.0</td>\n",
              "      <td>0.000000</td>\n",
              "      <td>0.0</td>\n",
              "      <td>0.0</td>\n",
              "      <td>1</td>\n",
              "    </tr>\n",
              "    <tr>\n",
              "      <th>H226</th>\n",
              "      <td>6.726633</td>\n",
              "      <td>0.0</td>\n",
              "      <td>5.594473</td>\n",
              "      <td>6.092268</td>\n",
              "      <td>6.380214</td>\n",
              "      <td>6.262938</td>\n",
              "      <td>5.563525</td>\n",
              "      <td>6.163107</td>\n",
              "      <td>3.505994</td>\n",
              "      <td>5.464666</td>\n",
              "      <td>...</td>\n",
              "      <td>0.000000</td>\n",
              "      <td>5.948191</td>\n",
              "      <td>0.00000</td>\n",
              "      <td>6.844283</td>\n",
              "      <td>0.0</td>\n",
              "      <td>0.0</td>\n",
              "      <td>6.014114</td>\n",
              "      <td>0.0</td>\n",
              "      <td>0.0</td>\n",
              "      <td>1</td>\n",
              "    </tr>\n",
              "    <tr>\n",
              "      <th>H227</th>\n",
              "      <td>0.000000</td>\n",
              "      <td>0.0</td>\n",
              "      <td>4.978460</td>\n",
              "      <td>5.652839</td>\n",
              "      <td>4.942689</td>\n",
              "      <td>5.012682</td>\n",
              "      <td>6.408629</td>\n",
              "      <td>4.083943</td>\n",
              "      <td>3.544529</td>\n",
              "      <td>5.100183</td>\n",
              "      <td>...</td>\n",
              "      <td>0.000000</td>\n",
              "      <td>4.764556</td>\n",
              "      <td>9.21044</td>\n",
              "      <td>6.095167</td>\n",
              "      <td>0.0</td>\n",
              "      <td>0.0</td>\n",
              "      <td>0.000000</td>\n",
              "      <td>0.0</td>\n",
              "      <td>0.0</td>\n",
              "      <td>0</td>\n",
              "    </tr>\n",
              "  </tbody>\n",
              "</table>\n",
              "<p>5 rows × 44679 columns</p>\n",
              "</div>\n",
              "      <button class=\"colab-df-convert\" onclick=\"convertToInteractive('df-4ff64f32-e215-48bb-84a4-0918e84490dd')\"\n",
              "              title=\"Convert this dataframe to an interactive table.\"\n",
              "              style=\"display:none;\">\n",
              "        \n",
              "  <svg xmlns=\"http://www.w3.org/2000/svg\" height=\"24px\"viewBox=\"0 0 24 24\"\n",
              "       width=\"24px\">\n",
              "    <path d=\"M0 0h24v24H0V0z\" fill=\"none\"/>\n",
              "    <path d=\"M18.56 5.44l.94 2.06.94-2.06 2.06-.94-2.06-.94-.94-2.06-.94 2.06-2.06.94zm-11 1L8.5 8.5l.94-2.06 2.06-.94-2.06-.94L8.5 2.5l-.94 2.06-2.06.94zm10 10l.94 2.06.94-2.06 2.06-.94-2.06-.94-.94-2.06-.94 2.06-2.06.94z\"/><path d=\"M17.41 7.96l-1.37-1.37c-.4-.4-.92-.59-1.43-.59-.52 0-1.04.2-1.43.59L10.3 9.45l-7.72 7.72c-.78.78-.78 2.05 0 2.83L4 21.41c.39.39.9.59 1.41.59.51 0 1.02-.2 1.41-.59l7.78-7.78 2.81-2.81c.8-.78.8-2.07 0-2.86zM5.41 20L4 18.59l7.72-7.72 1.47 1.35L5.41 20z\"/>\n",
              "  </svg>\n",
              "      </button>\n",
              "      \n",
              "  <style>\n",
              "    .colab-df-container {\n",
              "      display:flex;\n",
              "      flex-wrap:wrap;\n",
              "      gap: 12px;\n",
              "    }\n",
              "\n",
              "    .colab-df-convert {\n",
              "      background-color: #E8F0FE;\n",
              "      border: none;\n",
              "      border-radius: 50%;\n",
              "      cursor: pointer;\n",
              "      display: none;\n",
              "      fill: #1967D2;\n",
              "      height: 32px;\n",
              "      padding: 0 0 0 0;\n",
              "      width: 32px;\n",
              "    }\n",
              "\n",
              "    .colab-df-convert:hover {\n",
              "      background-color: #E2EBFA;\n",
              "      box-shadow: 0px 1px 2px rgba(60, 64, 67, 0.3), 0px 1px 3px 1px rgba(60, 64, 67, 0.15);\n",
              "      fill: #174EA6;\n",
              "    }\n",
              "\n",
              "    [theme=dark] .colab-df-convert {\n",
              "      background-color: #3B4455;\n",
              "      fill: #D2E3FC;\n",
              "    }\n",
              "\n",
              "    [theme=dark] .colab-df-convert:hover {\n",
              "      background-color: #434B5C;\n",
              "      box-shadow: 0px 1px 3px 1px rgba(0, 0, 0, 0.15);\n",
              "      filter: drop-shadow(0px 1px 2px rgba(0, 0, 0, 0.3));\n",
              "      fill: #FFFFFF;\n",
              "    }\n",
              "  </style>\n",
              "\n",
              "      <script>\n",
              "        const buttonEl =\n",
              "          document.querySelector('#df-4ff64f32-e215-48bb-84a4-0918e84490dd button.colab-df-convert');\n",
              "        buttonEl.style.display =\n",
              "          google.colab.kernel.accessAllowed ? 'block' : 'none';\n",
              "\n",
              "        async function convertToInteractive(key) {\n",
              "          const element = document.querySelector('#df-4ff64f32-e215-48bb-84a4-0918e84490dd');\n",
              "          const dataTable =\n",
              "            await google.colab.kernel.invokeFunction('convertToInteractive',\n",
              "                                                     [key], {});\n",
              "          if (!dataTable) return;\n",
              "\n",
              "          const docLinkHtml = 'Like what you see? Visit the ' +\n",
              "            '<a target=\"_blank\" href=https://colab.research.google.com/notebooks/data_table.ipynb>data table notebook</a>'\n",
              "            + ' to learn more about interactive tables.';\n",
              "          element.innerHTML = '';\n",
              "          dataTable['output_type'] = 'display_data';\n",
              "          await google.colab.output.renderOutput(dataTable, element);\n",
              "          const docLink = document.createElement('div');\n",
              "          docLink.innerHTML = docLinkHtml;\n",
              "          element.appendChild(docLink);\n",
              "        }\n",
              "      </script>\n",
              "    </div>\n",
              "  </div>\n",
              "  "
            ]
          },
          "metadata": {},
          "execution_count": 156
        }
      ]
    },
    {
      "cell_type": "markdown",
      "source": [
        "#Dendograma"
      ],
      "metadata": {
        "id": "y-tiploiZEvH"
      }
    },
    {
      "cell_type": "code",
      "source": [
        "import scipy.cluster.hierarchy as sch\n",
        "\n",
        "fig, axes = plt.subplots(1, 0, figsize=(18, 18))\n",
        "dendogram = sch.dendrogram(sch.linkage(norm_gen, method= 'ward', metric = 'euclidean'), leaf_font_size=15)\n",
        "plt.show()\n",
        "\n",
        "#Codigo retirado do Seabra para melhor facilitar o entendimento do endograma. \n",
        "for i in norm_gen.family.unique():\n",
        "  individuos = norm_gen[norm_gen.family == i]\n",
        "  print(f\"\\n Family {int(i) + 1} : {individuos.index.values}\\n\")\n",
        "  print(f\"Parentes encontrados : {len(individuos)}\\n\")\n",
        "print(\"=\"*140)\n"
      ],
      "metadata": {
        "colab": {
          "base_uri": "https://localhost:8080/",
          "height": 1000
        },
        "id": "3rPoqTY_TPsy",
        "outputId": "25f90c86-6afa-4d3f-de10-e378a5c82dfb"
      },
      "execution_count": null,
      "outputs": [
        {
          "output_type": "display_data",
          "data": {
            "text/plain": [
              "<Figure size 1296x1296 with 1 Axes>"
            ],
            "image/png": "[encoded data removed]"
          },
          "metadata": {}
        },
        {
          "output_type": "stream",
          "name": "stdout",
          "text": [
            "\n",
            "FAMILIA 2 : ['H223' 'H224' 'H225' 'H226' 'H230' 'H234' 'H250' 'H254' 'H258' 'H259'\n",
            " 'H261' 'H262' 'H266' 'H270']\n",
            "\n",
            "Total de Parentes encontrados : 14\n",
            "\n",
            "\n",
            "FAMILIA 1 : ['H227' 'H228' 'H229' 'H231' 'H232' 'H233' 'H239' 'H240' 'H241' 'H243'\n",
            " 'H244' 'H245' 'H251' 'H252' 'H253' 'H255' 'H256' 'H257' 'H263' 'H264'\n",
            " 'H265' 'H267' 'H268' 'H269']\n",
            "\n",
            "Total de Parentes encontrados : 24\n",
            "\n",
            "\n",
            "FAMILIA 3 : ['H235' 'H236' 'H237' 'H238' 'H242' 'H246' 'H247' 'H248' 'H249' 'H260']\n",
            "\n",
            "Total de Parentes encontrados : 10\n",
            "\n",
            "============================================================================================================================================\n"
          ]
        }
      ]
    },
    {
      "cell_type": "code",
      "source": [
        "for i in norm_gen.family.unique():\n",
        "  individuos = norm_gen[norm_gen.family == i]\n",
        "  print(f\"\\nFAMILIA {int(i) + 1} : {individuos.index.values}\\n\")\n",
        "  print(f\"Total de Parentes encontrados : {len(individuos)}\\n\")\n",
        "  print(\"********************\".center(140))\n",
        "print(\"=\"*140)"
      ],
      "metadata": {
        "colab": {
          "base_uri": "https://localhost:8080/"
        },
        "id": "2X2A74VcX5A6",
        "outputId": "73c2afda-fa03-41cc-ba93-b68edcb4b9e2"
      },
      "execution_count": null,
      "outputs": [
        {
          "output_type": "stream",
          "name": "stdout",
          "text": [
            "\n",
            "FAMILIA 2 : ['H223' 'H224' 'H225' 'H226' 'H230' 'H234' 'H250' 'H254' 'H258' 'H259'\n",
            " 'H261' 'H262' 'H266' 'H270']\n",
            "\n",
            "Total de Parentes encontrados : 14\n",
            "\n",
            "                                                            ********************                                                            \n",
            "\n",
            "FAMILIA 1 : ['H227' 'H228' 'H229' 'H231' 'H232' 'H233' 'H239' 'H240' 'H241' 'H243'\n",
            " 'H244' 'H245' 'H251' 'H252' 'H253' 'H255' 'H256' 'H257' 'H263' 'H264'\n",
            " 'H265' 'H267' 'H268' 'H269']\n",
            "\n",
            "Total de Parentes encontrados : 24\n",
            "\n",
            "                                                            ********************                                                            \n",
            "\n",
            "FAMILIA 3 : ['H235' 'H236' 'H237' 'H238' 'H242' 'H246' 'H247' 'H248' 'H249' 'H260']\n",
            "\n",
            "Total de Parentes encontrados : 10\n",
            "\n",
            "                                                            ********************                                                            \n",
            "============================================================================================================================================\n"
          ]
        }
      ]
    }
  ]
}